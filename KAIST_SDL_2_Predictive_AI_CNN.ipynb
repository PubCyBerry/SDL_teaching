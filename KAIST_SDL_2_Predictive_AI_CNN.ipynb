{
  "cells": [
    {
      "cell_type": "markdown",
      "metadata": {
        "id": "view-in-github",
        "colab_type": "text"
      },
      "source": [
        "<a href=\"https://colab.research.google.com/github/smartdesignlab/SDL_teaching/blob/main/KAIST_SDL_2_Predictive_AI_CNN.ipynb\" target=\"_parent\"><img src=\"https://colab.research.google.com/assets/colab-badge.svg\" alt=\"Open In Colab\"/></a>"
      ]
    },
    {
      "cell_type": "markdown",
      "metadata": {
        "id": "L4M5KUvgjTdi"
      },
      "source": [
        "# **2. Predictive AI: CNN for Compliance Prediction**\n",
        "\n",
        "![CNN](https://drive.google.com/uc?id=11jjdlSmA0NxVcY2DyQeqIRZMrXyqyxC8)\n",
        "**Overview**:  \n",
        "\n",
        "1) Import libraries and define parameters.  \n",
        "2) Load and preprocess a dataset of images along with compliance labels.  \n",
        "3) Define a Convolutional Neural Network (CNN) for predicting two compliance\n",
        "values.  \n",
        "4) Train and evaluate the CNN model.  \n",
        "5) Visualize results.  \n"
      ],
      "id": "L4M5KUvgjTdi"
    },
    {
      "cell_type": "markdown",
      "metadata": {
        "id": "VDnUc7nOjTdj"
      },
      "source": [
        "## 1) Import Libraries and Environment Setup"
      ],
      "id": "VDnUc7nOjTdj"
    },
    {
      "cell_type": "markdown",
      "id": "e1252602",
      "metadata": {
        "id": "e1252602"
      },
      "source": [
        "### **| Load dataset**"
      ]
    },
    {
      "cell_type": "code",
      "execution_count": null,
      "id": "d8876fa7",
      "metadata": {
        "colab": {
          "base_uri": "https://localhost:8080/"
        },
        "id": "d8876fa7",
        "outputId": "47a093f1-539e-4b9b-dc6c-e028962875fb"
      },
      "outputs": [
        {
          "output_type": "stream",
          "name": "stdout",
          "text": [
            "Downloading...\n",
            "From: https://drive.google.com/uc?id=1cG5p-tX5KV9RJyXovdr9gJnxiX0twh2k\n",
            "To: /content/DDIM_Generated_images.zip\n",
            "\r  0% 0.00/206k [00:00<?, ?B/s]\r100% 206k/206k [00:00<00:00, 90.8MB/s]\n",
            "compliance_label.csv  inference_018.png  inference_041.png  inference_062.png  inference_082.png\n",
            "inference_001.png     inference_019.png  inference_042.png  inference_063.png  inference_083.png\n",
            "inference_002.png     inference_020.png  inference_043.png  inference_065.png  inference_084.png\n",
            "inference_003.png     inference_023.png  inference_044.png  inference_066.png  inference_086.png\n",
            "inference_004.png     inference_024.png  inference_045.png  inference_067.png  inference_087.png\n",
            "inference_005.png     inference_025.png  inference_046.png  inference_068.png  inference_088.png\n",
            "inference_006.png     inference_026.png  inference_048.png  inference_069.png  inference_090.png\n",
            "inference_007.png     inference_027.png  inference_049.png  inference_070.png  inference_091.png\n",
            "inference_008.png     inference_028.png  inference_050.png  inference_071.png  inference_092.png\n",
            "inference_009.png     inference_030.png  inference_051.png  inference_072.png  inference_093.png\n",
            "inference_010.png     inference_031.png  inference_053.png  inference_073.png  inference_094.png\n",
            "inference_011.png     inference_032.png  inference_054.png  inference_074.png  inference_095.png\n",
            "inference_012.png     inference_033.png  inference_055.png  inference_075.png  inference_096.png\n",
            "inference_013.png     inference_036.png  inference_056.png  inference_076.png  inference_097.png\n",
            "inference_014.png     inference_037.png  inference_058.png  inference_077.png  inference_098.png\n",
            "inference_015.png     inference_038.png  inference_059.png  inference_078.png  inference_099.png\n",
            "inference_016.png     inference_039.png  inference_060.png  inference_079.png  inference_100.png\n",
            "inference_017.png     inference_040.png  inference_061.png  inference_080.png\n"
          ]
        }
      ],
      "source": [
        "!gdown 1cG5p-tX5KV9RJyXovdr9gJnxiX0twh2k -O DDIM_Generated_images.zip\n",
        "!mkdir -p DDIM_Generated_images\n",
        "!unzip -q DDIM_Generated_images.zip -d DDIM_Generated_images\n",
        "!ls ./DDIM_Generated_images"
      ]
    },
    {
      "cell_type": "code",
      "execution_count": null,
      "metadata": {
        "colab": {
          "base_uri": "https://localhost:8080/"
        },
        "id": "EN2vVSCLjTdk",
        "outputId": "023737d9-aa55-4e0d-ee60-9748a191e3ed"
      },
      "outputs": [
        {
          "output_type": "stream",
          "name": "stdout",
          "text": [
            "PyTorch version: 2.5.1+cu124\n",
            "CUDA available: True\n",
            "Device: cuda:0\n"
          ]
        }
      ],
      "source": [
        "import os\n",
        "import csv\n",
        "import torch\n",
        "import torch.nn as nn\n",
        "import torch.optim as optim\n",
        "from torch.utils.data import Dataset, DataLoader, random_split\n",
        "from PIL import Image\n",
        "import numpy as np\n",
        "import matplotlib.pyplot as plt\n",
        "import torch.optim.lr_scheduler as lr_scheduler\n",
        "import random\n",
        "\n",
        "# Device selection\n",
        "device = torch.device('cuda:0' if torch.cuda.is_available() else 'cpu')\n",
        "print(\"PyTorch version:\", torch.__version__)\n",
        "print(\"CUDA available:\", torch.cuda.is_available())\n",
        "print(\"Device:\", device)\n",
        "\n",
        "def set_seed(seed):\n",
        "    random.seed(seed)\n",
        "    np.random.seed(seed)\n",
        "    torch.manual_seed(seed)\n",
        "    if torch.cuda.is_available():\n",
        "        torch.cuda.manual_seed(seed)\n",
        "        torch.cuda.manual_seed_all(seed)\n",
        "        torch.backends.cudnn.deterministic = True\n",
        "        torch.backends.cudnn.benchmark = False\n",
        "\n",
        "# Set a global seed for reproducibility\n",
        "set_seed(1)"
      ],
      "id": "EN2vVSCLjTdk"
    },
    {
      "cell_type": "markdown",
      "id": "8adc840c",
      "metadata": {
        "id": "8adc840c"
      },
      "source": [
        "### **| Define Parameters**\n"
      ]
    },
    {
      "cell_type": "code",
      "execution_count": null,
      "metadata": {
        "id": "mr0jlPIFjTdl"
      },
      "outputs": [],
      "source": [
        "data_dir = './DDIM_Generated_images/'\n",
        "batch_size = 256\n",
        "epochs = 300\n",
        "learning_rate = 2e-3\n",
        "train_split = 0.8"
      ],
      "id": "mr0jlPIFjTdl"
    },
    {
      "cell_type": "markdown",
      "metadata": {
        "id": "crqchHTPjTdl"
      },
      "source": [
        "## 2) Load and Preprocess Data\n",
        "The **`ComplianceDataset`** class:\n",
        "1. Reads a `compliance_label.csv` file.\n",
        "2. Loads images (grayscale, `PNG` format).\n",
        "3. Normalizes them to the range `[-1, 1]`.\n",
        "4. Normalizes labels `(compliance1, compliance2)` to `[0, 1]`.\n",
        "5. Returns `(image_tensor, label_tensor)`."
      ],
      "id": "crqchHTPjTdl"
    },
    {
      "cell_type": "code",
      "execution_count": null,
      "metadata": {
        "id": "YVC2jWZajTdl"
      },
      "outputs": [],
      "source": [
        "class ComplianceDataset(Dataset):\n",
        "    def __init__(self, data_dir):\n",
        "        super().__init__()\n",
        "        self.data_dir = data_dir\n",
        "        # CSV file path\n",
        "        csv_path = os.path.join(data_dir, 'compliance_label.csv')\n",
        "\n",
        "        self.indices = []\n",
        "        self.labels = []  # Will store (comp1, comp2)\n",
        "\n",
        "        with open(csv_path, 'r', encoding='utf-8') as f:\n",
        "            reader = csv.reader(f)\n",
        "            next(reader)  # Skip header\n",
        "            for row in reader:\n",
        "                index = int(row[0])\n",
        "                comp1 = float(row[1])\n",
        "                comp2 = float(row[2])\n",
        "                self.indices.append(index)\n",
        "                self.labels.append([comp1, comp2])\n",
        "\n",
        "        self.labels = np.array(self.labels)\n",
        "\n",
        "        # Normalize labels to [0, 1]\n",
        "        self.labels_min = self.labels.min(axis=0)\n",
        "        self.labels_max = self.labels.max(axis=0)\n",
        "        self.labels = (self.labels - self.labels_min) / (self.labels_max - self.labels_min)\n",
        "\n",
        "    def __len__(self):\n",
        "        return len(self.indices)\n",
        "\n",
        "    def __getitem__(self, idx):\n",
        "        index = self.indices[idx]\n",
        "        # Image file name: inference_XXX.png\n",
        "        img_path = os.path.join(self.data_dir, f\"inference_{index:03d}.png\")\n",
        "        image = Image.open(img_path).convert('L')  # Grayscale\n",
        "        image = np.array(image, dtype=np.float32)\n",
        "\n",
        "        # Normalize image from [0, 255] to [-1, 1]\n",
        "        image_tensor = torch.from_numpy(image).unsqueeze(0)  # shape: (1, H, W)\n",
        "        image_tensor = (image_tensor / 127.5) - 1.0\n",
        "\n",
        "        # Retrieve label\n",
        "        label = self.labels[idx]\n",
        "        label_tensor = torch.from_numpy(label).float()  # shape: (2,)\n",
        "\n",
        "        return image_tensor, label_tensor"
      ],
      "id": "YVC2jWZajTdl"
    },
    {
      "cell_type": "code",
      "execution_count": null,
      "id": "16b6c825",
      "metadata": {
        "colab": {
          "base_uri": "https://localhost:8080/",
          "height": 362
        },
        "id": "16b6c825",
        "outputId": "c45dc35e-15dd-4a75-ff87-6d7cf3563bcb"
      },
      "outputs": [
        {
          "output_type": "display_data",
          "data": {
            "text/plain": [
              "<Figure size 1500x500 with 5 Axes>"
            ],
            "image/png": "[encoded data removed]"
          },
          "metadata": {}
        }
      ],
      "source": [
        "# Load dataset\n",
        "dataset = ComplianceDataset(data_dir)\n",
        "\n",
        "# Visualize some images with compliance values\n",
        "num_samples = 5\n",
        "fig, axes = plt.subplots(1, num_samples, figsize=(15, 5))\n",
        "\n",
        "for i in range(num_samples):\n",
        "    image, label = dataset[i]\n",
        "    image = image.squeeze().numpy()  # Convert tensor to numpy array\n",
        "    comp1, comp2 = label.numpy()  # Retrieve compliance values\n",
        "\n",
        "    axes[i].imshow(image, cmap='gray')\n",
        "    axes[i].set_title(f\"C1: {comp1:.4f}\\nC2: {comp2:.4f}\")\n",
        "    axes[i].axis(\"off\")\n",
        "\n",
        "plt.tight_layout()\n",
        "plt.show()\n"
      ]
    },
    {
      "cell_type": "markdown",
      "metadata": {
        "id": "GI1uggJtjTdl"
      },
      "source": [
        "## 3) Define CNN Model\n",
        "\n",
        "1. Uses three convolution layers (with max pooling) to reduce the input `(56×56)` down to `(7×7)` with 32 channels.\n",
        "2. Flattens the intermediate results and passes them through fully connected layers.\n",
        "3. Outputs two values for `(compliance1, compliance2)`.\n"
      ],
      "id": "GI1uggJtjTdl"
    },
    {
      "cell_type": "code",
      "source": [
        "class ComplianceCNN(nn.Module):\n",
        "    def __init__(self):\n",
        "        super().__init__()\n",
        "        self.conv_layers = nn.Sequential(\n",
        "            nn.Conv2d(1, 8, kernel_size=3, padding=1),\n",
        "            nn.ReLU(),\n",
        "            nn.MaxPool2d(2),\n",
        "\n",
        "            nn.Conv2d(8, 16, kernel_size=3, padding=1),\n",
        "            nn.ReLU(),\n",
        "            nn.MaxPool2d(2),\n",
        "\n",
        "            nn.Conv2d(16, 32, kernel_size=3, padding=1),\n",
        "            nn.ReLU(),\n",
        "            nn.MaxPool2d(2),\n",
        "        )\n",
        "\n",
        "        self.fc_layers = nn.Sequential(\n",
        "            nn.Linear(32 * 7 * 7, 128),\n",
        "            nn.ReLU(),\n",
        "            nn.Linear(128, 64),\n",
        "            nn.ReLU(),\n",
        "            nn.Linear(64, 2)  # (compliance1, compliance2)\n",
        "        )\n",
        "\n",
        "    def forward(self, x):\n",
        "        x = self.conv_layers(x)\n",
        "        x = x.view(x.size(0), -1)\n",
        "        x = self.fc_layers(x)\n",
        "        return x"
      ],
      "metadata": {
        "id": "Z9dmpbAYDl6z"
      },
      "id": "Z9dmpbAYDl6z",
      "execution_count": null,
      "outputs": []
    },
    {
      "cell_type": "markdown",
      "metadata": {
        "id": "lQb-qlOVjTdm"
      },
      "source": [
        "## 4) Training Loop\n",
        "\n",
        "1. Create the dataset and split it into train & test sets.\n",
        "2. Create data loaders.\n",
        "3. Initialize the CNN model, criterion, optimizer, and learning rate scheduler.\n",
        "4. Train for a specified number of epochs, tracking training and testing loss.\n",
        "5. Save the model and a plot of the loss curves."
      ],
      "id": "lQb-qlOVjTdm"
    },
    {
      "cell_type": "markdown",
      "id": "35da527f",
      "metadata": {
        "id": "35da527f"
      },
      "source": [
        "### **| Train / Test Functions**"
      ]
    },
    {
      "cell_type": "code",
      "execution_count": null,
      "id": "a2a69c19",
      "metadata": {
        "id": "a2a69c19"
      },
      "outputs": [],
      "source": [
        "def train(model, dataloader, criterion, optimizer, device):\n",
        "    model.train()\n",
        "    running_loss = 0.0\n",
        "    for images, labels in dataloader:\n",
        "        images = images.to(device)\n",
        "        labels = labels.to(device)\n",
        "\n",
        "        optimizer.zero_grad()\n",
        "        outputs = model(images)\n",
        "        loss = criterion(outputs, labels)\n",
        "        loss.backward()\n",
        "        optimizer.step()\n",
        "\n",
        "        running_loss += loss.item() * images.size(0)\n",
        "    epoch_loss = running_loss / len(dataloader.dataset)\n",
        "    return epoch_loss\n",
        "\n",
        "def test(model, dataloader, criterion, device):\n",
        "    model.eval()\n",
        "    running_loss = 0.0\n",
        "    with torch.no_grad():\n",
        "        for images, labels in dataloader:\n",
        "            images = images.to(device)\n",
        "            labels = labels.to(device)\n",
        "\n",
        "            outputs = model(images)\n",
        "            loss = criterion(outputs, labels)\n",
        "            running_loss += loss.item() * images.size(0)\n",
        "\n",
        "    epoch_loss = running_loss / len(dataloader.dataset)\n",
        "    return epoch_loss"
      ]
    },
    {
      "cell_type": "code",
      "execution_count": null,
      "metadata": {
        "colab": {
          "base_uri": "https://localhost:8080/"
        },
        "id": "4M2cuVHYjTdm",
        "outputId": "3ec8cb81-f483-4283-d4ed-3b64fd0d54ae"
      },
      "outputs": [
        {
          "output_type": "stream",
          "name": "stdout",
          "text": [
            "Epoch [1/300]  Train Loss: 0.048283  Test Loss: 0.036422\n",
            "Epoch [2/300]  Train Loss: 0.043074  Test Loss: 0.042796\n",
            "Epoch [3/300]  Train Loss: 0.042307  Test Loss: 0.037312\n",
            "Epoch [4/300]  Train Loss: 0.039613  Test Loss: 0.031539\n",
            "Epoch [5/300]  Train Loss: 0.038237  Test Loss: 0.029414\n",
            "Epoch [6/300]  Train Loss: 0.034657  Test Loss: 0.027994\n",
            "Epoch [7/300]  Train Loss: 0.031422  Test Loss: 0.021342\n",
            "Epoch [8/300]  Train Loss: 0.026960  Test Loss: 0.016264\n",
            "Epoch [9/300]  Train Loss: 0.024677  Test Loss: 0.016097\n",
            "Epoch [10/300]  Train Loss: 0.023500  Test Loss: 0.018029\n",
            "Epoch [11/300]  Train Loss: 0.023111  Test Loss: 0.017910\n",
            "Epoch [12/300]  Train Loss: 0.029854  Test Loss: 0.011052\n",
            "Epoch [13/300]  Train Loss: 0.017372  Test Loss: 0.017134\n",
            "Epoch [14/300]  Train Loss: 0.021850  Test Loss: 0.012860\n",
            "Epoch [15/300]  Train Loss: 0.018899  Test Loss: 0.010883\n",
            "Epoch [16/300]  Train Loss: 0.017552  Test Loss: 0.011226\n",
            "Epoch [17/300]  Train Loss: 0.018063  Test Loss: 0.011043\n",
            "Epoch [18/300]  Train Loss: 0.017701  Test Loss: 0.009773\n",
            "Epoch [19/300]  Train Loss: 0.015635  Test Loss: 0.008860\n",
            "Epoch [20/300]  Train Loss: 0.013279  Test Loss: 0.009241\n",
            "Epoch [21/300]  Train Loss: 0.012788  Test Loss: 0.009371\n",
            "Epoch [22/300]  Train Loss: 0.012592  Test Loss: 0.008768\n",
            "Epoch [23/300]  Train Loss: 0.010563  Test Loss: 0.010360\n",
            "Epoch [24/300]  Train Loss: 0.010644  Test Loss: 0.009221\n",
            "Epoch [25/300]  Train Loss: 0.010027  Test Loss: 0.007468\n",
            "Epoch [26/300]  Train Loss: 0.008448  Test Loss: 0.008165\n",
            "Epoch [27/300]  Train Loss: 0.008129  Test Loss: 0.009167\n",
            "Epoch [28/300]  Train Loss: 0.008357  Test Loss: 0.008205\n",
            "Epoch [29/300]  Train Loss: 0.007350  Test Loss: 0.007513\n",
            "Epoch [30/300]  Train Loss: 0.006636  Test Loss: 0.007743\n",
            "Epoch [31/300]  Train Loss: 0.006475  Test Loss: 0.007994\n",
            "Epoch [32/300]  Train Loss: 0.005784  Test Loss: 0.008125\n",
            "Epoch [33/300]  Train Loss: 0.005247  Test Loss: 0.008050\n",
            "Epoch [34/300]  Train Loss: 0.005258  Test Loss: 0.007496\n",
            "Epoch [35/300]  Train Loss: 0.004572  Test Loss: 0.006870\n",
            "Epoch [36/300]  Train Loss: 0.003990  Test Loss: 0.006879\n",
            "Epoch [37/300]  Train Loss: 0.003885  Test Loss: 0.006887\n",
            "Epoch [38/300]  Train Loss: 0.003560  Test Loss: 0.006523\n",
            "Epoch [39/300]  Train Loss: 0.003073  Test Loss: 0.006501\n",
            "Epoch [40/300]  Train Loss: 0.002830  Test Loss: 0.006353\n",
            "Epoch [41/300]  Train Loss: 0.002564  Test Loss: 0.005923\n",
            "Epoch [42/300]  Train Loss: 0.002260  Test Loss: 0.005844\n",
            "Epoch [43/300]  Train Loss: 0.002117  Test Loss: 0.005896\n",
            "Epoch [44/300]  Train Loss: 0.001792  Test Loss: 0.005948\n",
            "Epoch [45/300]  Train Loss: 0.001652  Test Loss: 0.006058\n",
            "Epoch [46/300]  Train Loss: 0.001490  Test Loss: 0.005577\n",
            "Epoch [47/300]  Train Loss: 0.001231  Test Loss: 0.005206\n",
            "Epoch [48/300]  Train Loss: 0.001150  Test Loss: 0.005056\n",
            "Epoch [49/300]  Train Loss: 0.001013  Test Loss: 0.005207\n",
            "Epoch [50/300]  Train Loss: 0.001058  Test Loss: 0.005002\n",
            "Epoch [51/300]  Train Loss: 0.001076  Test Loss: 0.005080\n",
            "Epoch [52/300]  Train Loss: 0.001101  Test Loss: 0.004799\n",
            "Epoch [53/300]  Train Loss: 0.001060  Test Loss: 0.004662\n",
            "Epoch [54/300]  Train Loss: 0.000693  Test Loss: 0.004376\n",
            "Epoch [55/300]  Train Loss: 0.000484  Test Loss: 0.004199\n",
            "Epoch [56/300]  Train Loss: 0.000540  Test Loss: 0.004454\n",
            "Epoch [57/300]  Train Loss: 0.000628  Test Loss: 0.003993\n",
            "Epoch [58/300]  Train Loss: 0.000458  Test Loss: 0.004018\n",
            "Epoch [59/300]  Train Loss: 0.000314  Test Loss: 0.004223\n",
            "Epoch [60/300]  Train Loss: 0.000408  Test Loss: 0.004034\n",
            "Epoch [61/300]  Train Loss: 0.000397  Test Loss: 0.003927\n",
            "Epoch [62/300]  Train Loss: 0.000272  Test Loss: 0.003882\n",
            "Epoch [63/300]  Train Loss: 0.000262  Test Loss: 0.003805\n",
            "Epoch [64/300]  Train Loss: 0.000314  Test Loss: 0.003717\n",
            "Epoch [65/300]  Train Loss: 0.000226  Test Loss: 0.003582\n",
            "Epoch [66/300]  Train Loss: 0.000192  Test Loss: 0.003545\n",
            "Epoch [67/300]  Train Loss: 0.000236  Test Loss: 0.003581\n",
            "Epoch [68/300]  Train Loss: 0.000176  Test Loss: 0.003554\n",
            "Epoch [69/300]  Train Loss: 0.000139  Test Loss: 0.003540\n",
            "Epoch [70/300]  Train Loss: 0.000163  Test Loss: 0.003500\n",
            "Epoch [71/300]  Train Loss: 0.000138  Test Loss: 0.003411\n",
            "Epoch [72/300]  Train Loss: 0.000095  Test Loss: 0.003396\n",
            "Epoch [73/300]  Train Loss: 0.000114  Test Loss: 0.003456\n",
            "Epoch [74/300]  Train Loss: 0.000104  Test Loss: 0.003418\n",
            "Epoch [75/300]  Train Loss: 0.000070  Test Loss: 0.003458\n",
            "Epoch [76/300]  Train Loss: 0.000084  Test Loss: 0.003528\n",
            "Epoch [77/300]  Train Loss: 0.000083  Test Loss: 0.003494\n",
            "Epoch [78/300]  Train Loss: 0.000061  Test Loss: 0.003472\n",
            "Epoch [79/300]  Train Loss: 0.000062  Test Loss: 0.003493\n",
            "Epoch [80/300]  Train Loss: 0.000070  Test Loss: 0.003447\n",
            "Epoch [81/300]  Train Loss: 0.000051  Test Loss: 0.003454\n",
            "Epoch [82/300]  Train Loss: 0.000049  Test Loss: 0.003488\n",
            "Epoch [83/300]  Train Loss: 0.000053  Test Loss: 0.003455\n",
            "Epoch [84/300]  Train Loss: 0.000043  Test Loss: 0.003443\n",
            "Epoch [85/300]  Train Loss: 0.000039  Test Loss: 0.003457\n",
            "Epoch [86/300]  Train Loss: 0.000042  Test Loss: 0.003425\n",
            "Epoch [87/300]  Train Loss: 0.000036  Test Loss: 0.003425\n",
            "Epoch [88/300]  Train Loss: 0.000029  Test Loss: 0.003457\n",
            "Epoch [89/300]  Train Loss: 0.000033  Test Loss: 0.003470\n",
            "Epoch [90/300]  Train Loss: 0.000030  Test Loss: 0.003499\n",
            "Epoch [91/300]  Train Loss: 0.000024  Test Loss: 0.003507\n",
            "Epoch [92/300]  Train Loss: 0.000024  Test Loss: 0.003490\n",
            "Epoch [93/300]  Train Loss: 0.000025  Test Loss: 0.003505\n",
            "Epoch [94/300]  Train Loss: 0.000020  Test Loss: 0.003508\n",
            "Epoch [95/300]  Train Loss: 0.000018  Test Loss: 0.003503\n",
            "Epoch [96/300]  Train Loss: 0.000019  Test Loss: 0.003526\n",
            "Epoch [97/300]  Train Loss: 0.000018  Test Loss: 0.003524\n",
            "Epoch [98/300]  Train Loss: 0.000015  Test Loss: 0.003535\n",
            "Epoch [99/300]  Train Loss: 0.000014  Test Loss: 0.003544\n",
            "Epoch [100/300]  Train Loss: 0.000015  Test Loss: 0.003518\n",
            "Epoch [101/300]  Train Loss: 0.000014  Test Loss: 0.003521\n",
            "Epoch [102/300]  Train Loss: 0.000012  Test Loss: 0.003535\n",
            "Epoch [103/300]  Train Loss: 0.000013  Test Loss: 0.003536\n",
            "Epoch [104/300]  Train Loss: 0.000012  Test Loss: 0.003529\n",
            "Epoch [105/300]  Train Loss: 0.000011  Test Loss: 0.003528\n",
            "Epoch [106/300]  Train Loss: 0.000011  Test Loss: 0.003532\n",
            "Epoch [107/300]  Train Loss: 0.000010  Test Loss: 0.003532\n",
            "Epoch [108/300]  Train Loss: 0.000010  Test Loss: 0.003524\n",
            "Epoch [109/300]  Train Loss: 0.000009  Test Loss: 0.003519\n",
            "Epoch [110/300]  Train Loss: 0.000010  Test Loss: 0.003519\n",
            "Epoch [111/300]  Train Loss: 0.000009  Test Loss: 0.003518\n",
            "Epoch [112/300]  Train Loss: 0.000009  Test Loss: 0.003510\n",
            "Epoch [113/300]  Train Loss: 0.000008  Test Loss: 0.003505\n",
            "Epoch [114/300]  Train Loss: 0.000008  Test Loss: 0.003508\n",
            "Epoch [115/300]  Train Loss: 0.000008  Test Loss: 0.003513\n",
            "Epoch [116/300]  Train Loss: 0.000008  Test Loss: 0.003509\n",
            "Epoch [117/300]  Train Loss: 0.000007  Test Loss: 0.003502\n",
            "Epoch [118/300]  Train Loss: 0.000007  Test Loss: 0.003499\n",
            "Epoch [119/300]  Train Loss: 0.000007  Test Loss: 0.003501\n",
            "Epoch [120/300]  Train Loss: 0.000007  Test Loss: 0.003500\n",
            "Epoch [121/300]  Train Loss: 0.000007  Test Loss: 0.003496\n",
            "Epoch [122/300]  Train Loss: 0.000006  Test Loss: 0.003495\n",
            "Epoch [123/300]  Train Loss: 0.000006  Test Loss: 0.003498\n",
            "Epoch [124/300]  Train Loss: 0.000006  Test Loss: 0.003497\n",
            "Epoch [125/300]  Train Loss: 0.000006  Test Loss: 0.003493\n",
            "Epoch [126/300]  Train Loss: 0.000006  Test Loss: 0.003493\n",
            "Epoch [127/300]  Train Loss: 0.000006  Test Loss: 0.003494\n",
            "Epoch [128/300]  Train Loss: 0.000005  Test Loss: 0.003492\n",
            "Epoch [129/300]  Train Loss: 0.000005  Test Loss: 0.003486\n",
            "Epoch [130/300]  Train Loss: 0.000005  Test Loss: 0.003484\n",
            "Epoch [131/300]  Train Loss: 0.000005  Test Loss: 0.003486\n",
            "Epoch [132/300]  Train Loss: 0.000005  Test Loss: 0.003487\n",
            "Epoch [133/300]  Train Loss: 0.000005  Test Loss: 0.003485\n",
            "Epoch [134/300]  Train Loss: 0.000005  Test Loss: 0.003483\n",
            "Epoch [135/300]  Train Loss: 0.000005  Test Loss: 0.003484\n",
            "Epoch [136/300]  Train Loss: 0.000004  Test Loss: 0.003483\n",
            "Epoch [137/300]  Train Loss: 0.000004  Test Loss: 0.003481\n",
            "Epoch [138/300]  Train Loss: 0.000004  Test Loss: 0.003480\n",
            "Epoch [139/300]  Train Loss: 0.000004  Test Loss: 0.003481\n",
            "Epoch [140/300]  Train Loss: 0.000004  Test Loss: 0.003480\n",
            "Epoch [141/300]  Train Loss: 0.000004  Test Loss: 0.003478\n",
            "Epoch [142/300]  Train Loss: 0.000004  Test Loss: 0.003478\n",
            "Epoch [143/300]  Train Loss: 0.000004  Test Loss: 0.003479\n",
            "Epoch [144/300]  Train Loss: 0.000004  Test Loss: 0.003479\n",
            "Epoch [145/300]  Train Loss: 0.000004  Test Loss: 0.003476\n",
            "Epoch [146/300]  Train Loss: 0.000003  Test Loss: 0.003475\n",
            "Epoch [147/300]  Train Loss: 0.000003  Test Loss: 0.003475\n",
            "Epoch [148/300]  Train Loss: 0.000003  Test Loss: 0.003474\n",
            "Epoch [149/300]  Train Loss: 0.000003  Test Loss: 0.003473\n",
            "Epoch [150/300]  Train Loss: 0.000003  Test Loss: 0.003472\n",
            "Epoch [151/300]  Train Loss: 0.000003  Test Loss: 0.003472\n",
            "Epoch [152/300]  Train Loss: 0.000003  Test Loss: 0.003471\n",
            "Epoch [153/300]  Train Loss: 0.000003  Test Loss: 0.003470\n",
            "Epoch [154/300]  Train Loss: 0.000003  Test Loss: 0.003470\n",
            "Epoch [155/300]  Train Loss: 0.000003  Test Loss: 0.003471\n",
            "Epoch [156/300]  Train Loss: 0.000003  Test Loss: 0.003469\n",
            "Epoch [157/300]  Train Loss: 0.000003  Test Loss: 0.003468\n",
            "Epoch [158/300]  Train Loss: 0.000003  Test Loss: 0.003468\n",
            "Epoch [159/300]  Train Loss: 0.000002  Test Loss: 0.003469\n",
            "Epoch [160/300]  Train Loss: 0.000002  Test Loss: 0.003468\n",
            "Epoch [161/300]  Train Loss: 0.000002  Test Loss: 0.003468\n",
            "Epoch [162/300]  Train Loss: 0.000002  Test Loss: 0.003467\n",
            "Epoch [163/300]  Train Loss: 0.000002  Test Loss: 0.003467\n",
            "Epoch [164/300]  Train Loss: 0.000002  Test Loss: 0.003467\n",
            "Epoch [165/300]  Train Loss: 0.000002  Test Loss: 0.003467\n",
            "Epoch [166/300]  Train Loss: 0.000002  Test Loss: 0.003467\n",
            "Epoch [167/300]  Train Loss: 0.000002  Test Loss: 0.003466\n",
            "Epoch [168/300]  Train Loss: 0.000002  Test Loss: 0.003465\n",
            "Epoch [169/300]  Train Loss: 0.000002  Test Loss: 0.003466\n",
            "Epoch [170/300]  Train Loss: 0.000002  Test Loss: 0.003466\n",
            "Epoch [171/300]  Train Loss: 0.000002  Test Loss: 0.003466\n",
            "Epoch [172/300]  Train Loss: 0.000002  Test Loss: 0.003465\n",
            "Epoch [173/300]  Train Loss: 0.000002  Test Loss: 0.003465\n",
            "Epoch [174/300]  Train Loss: 0.000002  Test Loss: 0.003465\n",
            "Epoch [175/300]  Train Loss: 0.000002  Test Loss: 0.003465\n",
            "Epoch [176/300]  Train Loss: 0.000002  Test Loss: 0.003464\n",
            "Epoch [177/300]  Train Loss: 0.000002  Test Loss: 0.003464\n",
            "Epoch [178/300]  Train Loss: 0.000002  Test Loss: 0.003464\n",
            "Epoch [179/300]  Train Loss: 0.000002  Test Loss: 0.003464\n",
            "Epoch [180/300]  Train Loss: 0.000002  Test Loss: 0.003464\n",
            "Epoch [181/300]  Train Loss: 0.000002  Test Loss: 0.003464\n",
            "Epoch [182/300]  Train Loss: 0.000001  Test Loss: 0.003463\n",
            "Epoch [183/300]  Train Loss: 0.000001  Test Loss: 0.003462\n",
            "Epoch [184/300]  Train Loss: 0.000001  Test Loss: 0.003462\n",
            "Epoch [185/300]  Train Loss: 0.000001  Test Loss: 0.003462\n",
            "Epoch [186/300]  Train Loss: 0.000001  Test Loss: 0.003462\n",
            "Epoch [187/300]  Train Loss: 0.000001  Test Loss: 0.003462\n",
            "Epoch [188/300]  Train Loss: 0.000001  Test Loss: 0.003462\n",
            "Epoch [189/300]  Train Loss: 0.000001  Test Loss: 0.003461\n",
            "Epoch [190/300]  Train Loss: 0.000001  Test Loss: 0.003461\n",
            "Epoch [191/300]  Train Loss: 0.000001  Test Loss: 0.003461\n",
            "Epoch [192/300]  Train Loss: 0.000001  Test Loss: 0.003461\n",
            "Epoch [193/300]  Train Loss: 0.000001  Test Loss: 0.003461\n",
            "Epoch [194/300]  Train Loss: 0.000001  Test Loss: 0.003461\n",
            "Epoch [195/300]  Train Loss: 0.000001  Test Loss: 0.003461\n",
            "Epoch [196/300]  Train Loss: 0.000001  Test Loss: 0.003461\n",
            "Epoch [197/300]  Train Loss: 0.000001  Test Loss: 0.003461\n",
            "Epoch [198/300]  Train Loss: 0.000001  Test Loss: 0.003460\n",
            "Epoch [199/300]  Train Loss: 0.000001  Test Loss: 0.003460\n",
            "Epoch [200/300]  Train Loss: 0.000001  Test Loss: 0.003460\n",
            "Epoch [201/300]  Train Loss: 0.000001  Test Loss: 0.003460\n",
            "Epoch [202/300]  Train Loss: 0.000001  Test Loss: 0.003460\n",
            "Epoch [203/300]  Train Loss: 0.000001  Test Loss: 0.003460\n",
            "Epoch [204/300]  Train Loss: 0.000001  Test Loss: 0.003460\n",
            "Epoch [205/300]  Train Loss: 0.000001  Test Loss: 0.003460\n",
            "Epoch [206/300]  Train Loss: 0.000001  Test Loss: 0.003460\n",
            "Epoch [207/300]  Train Loss: 0.000001  Test Loss: 0.003460\n",
            "Epoch [208/300]  Train Loss: 0.000001  Test Loss: 0.003459\n",
            "Epoch [209/300]  Train Loss: 0.000001  Test Loss: 0.003459\n",
            "Epoch [210/300]  Train Loss: 0.000001  Test Loss: 0.003459\n",
            "Epoch [211/300]  Train Loss: 0.000001  Test Loss: 0.003459\n",
            "Epoch [212/300]  Train Loss: 0.000001  Test Loss: 0.003459\n",
            "Epoch [213/300]  Train Loss: 0.000001  Test Loss: 0.003459\n",
            "Epoch [214/300]  Train Loss: 0.000001  Test Loss: 0.003459\n",
            "Epoch [215/300]  Train Loss: 0.000001  Test Loss: 0.003459\n",
            "Epoch [216/300]  Train Loss: 0.000001  Test Loss: 0.003459\n",
            "Epoch [217/300]  Train Loss: 0.000001  Test Loss: 0.003459\n",
            "Epoch [218/300]  Train Loss: 0.000001  Test Loss: 0.003459\n",
            "Epoch [219/300]  Train Loss: 0.000001  Test Loss: 0.003459\n",
            "Epoch [220/300]  Train Loss: 0.000001  Test Loss: 0.003459\n",
            "Epoch [221/300]  Train Loss: 0.000001  Test Loss: 0.003459\n",
            "Epoch [222/300]  Train Loss: 0.000001  Test Loss: 0.003459\n",
            "Epoch [223/300]  Train Loss: 0.000001  Test Loss: 0.003459\n",
            "Epoch [224/300]  Train Loss: 0.000001  Test Loss: 0.003459\n",
            "Epoch [225/300]  Train Loss: 0.000001  Test Loss: 0.003459\n",
            "Epoch [226/300]  Train Loss: 0.000001  Test Loss: 0.003459\n",
            "Epoch [227/300]  Train Loss: 0.000001  Test Loss: 0.003459\n",
            "Epoch [228/300]  Train Loss: 0.000001  Test Loss: 0.003459\n",
            "Epoch [229/300]  Train Loss: 0.000001  Test Loss: 0.003458\n",
            "Epoch [230/300]  Train Loss: 0.000001  Test Loss: 0.003458\n",
            "Epoch [231/300]  Train Loss: 0.000001  Test Loss: 0.003458\n",
            "Epoch [232/300]  Train Loss: 0.000001  Test Loss: 0.003458\n",
            "Epoch [233/300]  Train Loss: 0.000001  Test Loss: 0.003458\n",
            "Epoch [234/300]  Train Loss: 0.000001  Test Loss: 0.003458\n",
            "Epoch [235/300]  Train Loss: 0.000001  Test Loss: 0.003458\n",
            "Epoch [236/300]  Train Loss: 0.000001  Test Loss: 0.003458\n",
            "Epoch [237/300]  Train Loss: 0.000001  Test Loss: 0.003458\n",
            "Epoch [238/300]  Train Loss: 0.000001  Test Loss: 0.003458\n",
            "Epoch [239/300]  Train Loss: 0.000001  Test Loss: 0.003458\n",
            "Epoch [240/300]  Train Loss: 0.000001  Test Loss: 0.003458\n",
            "Epoch [241/300]  Train Loss: 0.000001  Test Loss: 0.003458\n",
            "Epoch [242/300]  Train Loss: 0.000001  Test Loss: 0.003458\n",
            "Epoch [243/300]  Train Loss: 0.000001  Test Loss: 0.003458\n",
            "Epoch [244/300]  Train Loss: 0.000001  Test Loss: 0.003458\n",
            "Epoch [245/300]  Train Loss: 0.000001  Test Loss: 0.003458\n",
            "Epoch [246/300]  Train Loss: 0.000001  Test Loss: 0.003458\n",
            "Epoch [247/300]  Train Loss: 0.000001  Test Loss: 0.003458\n",
            "Epoch [248/300]  Train Loss: 0.000001  Test Loss: 0.003458\n",
            "Epoch [249/300]  Train Loss: 0.000001  Test Loss: 0.003458\n",
            "Epoch [250/300]  Train Loss: 0.000001  Test Loss: 0.003458\n",
            "Epoch [251/300]  Train Loss: 0.000001  Test Loss: 0.003458\n",
            "Epoch [252/300]  Train Loss: 0.000001  Test Loss: 0.003458\n",
            "Epoch [253/300]  Train Loss: 0.000001  Test Loss: 0.003457\n",
            "Epoch [254/300]  Train Loss: 0.000001  Test Loss: 0.003457\n",
            "Epoch [255/300]  Train Loss: 0.000001  Test Loss: 0.003457\n",
            "Epoch [256/300]  Train Loss: 0.000001  Test Loss: 0.003457\n",
            "Epoch [257/300]  Train Loss: 0.000001  Test Loss: 0.003457\n",
            "Epoch [258/300]  Train Loss: 0.000001  Test Loss: 0.003457\n",
            "Epoch [259/300]  Train Loss: 0.000001  Test Loss: 0.003457\n",
            "Epoch [260/300]  Train Loss: 0.000001  Test Loss: 0.003457\n",
            "Epoch [261/300]  Train Loss: 0.000001  Test Loss: 0.003457\n",
            "Epoch [262/300]  Train Loss: 0.000001  Test Loss: 0.003457\n",
            "Epoch [263/300]  Train Loss: 0.000001  Test Loss: 0.003457\n",
            "Epoch [264/300]  Train Loss: 0.000001  Test Loss: 0.003457\n",
            "Epoch [265/300]  Train Loss: 0.000001  Test Loss: 0.003457\n",
            "Epoch [266/300]  Train Loss: 0.000001  Test Loss: 0.003457\n",
            "Epoch [267/300]  Train Loss: 0.000001  Test Loss: 0.003457\n",
            "Epoch [268/300]  Train Loss: 0.000001  Test Loss: 0.003457\n",
            "Epoch [269/300]  Train Loss: 0.000000  Test Loss: 0.003457\n",
            "Epoch [270/300]  Train Loss: 0.000000  Test Loss: 0.003457\n",
            "Epoch [271/300]  Train Loss: 0.000000  Test Loss: 0.003457\n",
            "Epoch [272/300]  Train Loss: 0.000000  Test Loss: 0.003457\n",
            "Epoch [273/300]  Train Loss: 0.000000  Test Loss: 0.003457\n",
            "Epoch [274/300]  Train Loss: 0.000000  Test Loss: 0.003457\n",
            "Epoch [275/300]  Train Loss: 0.000000  Test Loss: 0.003457\n",
            "Epoch [276/300]  Train Loss: 0.000000  Test Loss: 0.003457\n",
            "Epoch [277/300]  Train Loss: 0.000000  Test Loss: 0.003457\n",
            "Epoch [278/300]  Train Loss: 0.000000  Test Loss: 0.003456\n",
            "Epoch [279/300]  Train Loss: 0.000000  Test Loss: 0.003456\n",
            "Epoch [280/300]  Train Loss: 0.000000  Test Loss: 0.003456\n",
            "Epoch [281/300]  Train Loss: 0.000000  Test Loss: 0.003456\n",
            "Epoch [282/300]  Train Loss: 0.000000  Test Loss: 0.003456\n",
            "Epoch [283/300]  Train Loss: 0.000000  Test Loss: 0.003456\n",
            "Epoch [284/300]  Train Loss: 0.000000  Test Loss: 0.003456\n",
            "Epoch [285/300]  Train Loss: 0.000000  Test Loss: 0.003456\n",
            "Epoch [286/300]  Train Loss: 0.000000  Test Loss: 0.003456\n",
            "Epoch [287/300]  Train Loss: 0.000000  Test Loss: 0.003456\n",
            "Epoch [288/300]  Train Loss: 0.000000  Test Loss: 0.003456\n",
            "Epoch [289/300]  Train Loss: 0.000000  Test Loss: 0.003456\n",
            "Epoch [290/300]  Train Loss: 0.000000  Test Loss: 0.003456\n",
            "Epoch [291/300]  Train Loss: 0.000000  Test Loss: 0.003456\n",
            "Epoch [292/300]  Train Loss: 0.000000  Test Loss: 0.003456\n",
            "Epoch [293/300]  Train Loss: 0.000000  Test Loss: 0.003456\n",
            "Epoch [294/300]  Train Loss: 0.000000  Test Loss: 0.003456\n",
            "Epoch [295/300]  Train Loss: 0.000000  Test Loss: 0.003456\n",
            "Epoch [296/300]  Train Loss: 0.000000  Test Loss: 0.003456\n",
            "Epoch [297/300]  Train Loss: 0.000000  Test Loss: 0.003456\n",
            "Epoch [298/300]  Train Loss: 0.000000  Test Loss: 0.003456\n",
            "Epoch [299/300]  Train Loss: 0.000000  Test Loss: 0.003456\n",
            "Epoch [300/300]  Train Loss: 0.000000  Test Loss: 0.003456\n",
            "Training complete. Model saved to ./best_model/Predictor_CNN.pth\n"
          ]
        }
      ],
      "source": [
        "# Prepare Dataset & DataLoader\n",
        "full_dataset = ComplianceDataset(data_dir)\n",
        "dataset_len = len(full_dataset)\n",
        "train_len = int(dataset_len * train_split)\n",
        "test_len = dataset_len - train_len\n",
        "\n",
        "torch.manual_seed(1)\n",
        "train_dataset, test_dataset = random_split(full_dataset, [train_len, test_len], generator=torch.Generator().manual_seed(1))\n",
        "\n",
        "train_loader = DataLoader(train_dataset, batch_size=batch_size, shuffle=True, drop_last=False)\n",
        "test_loader = DataLoader(test_dataset, batch_size=batch_size, shuffle=False, drop_last=False)\n",
        "\n",
        "# Initialize Model, Criterion, Optimizer\n",
        "model = ComplianceCNN().to(device)\n",
        "criterion = nn.MSELoss()\n",
        "optimizer = optim.Adam(model.parameters(), lr=learning_rate)\n",
        "scheduler = lr_scheduler.StepLR(optimizer, step_size=100, gamma=0.5)\n",
        "\n",
        "# Training Loop\n",
        "train_losses = []\n",
        "val_losses = []\n",
        "\n",
        "for epoch in range(epochs):\n",
        "    train_loss = train(model, train_loader, criterion, optimizer, device)\n",
        "    val_loss = test(model, test_loader, criterion, device)\n",
        "    train_losses.append(train_loss)\n",
        "    val_losses.append(val_loss)\n",
        "    print(f\"Epoch [{epoch + 1}/{epochs}]  Train Loss: {train_loss:.6f}  Test Loss: {val_loss:.6f}\")\n",
        "    scheduler.step()\n",
        "\n",
        "# 5) Save Model & Loss\n",
        "os.makedirs('./best_model', exist_ok=True)\n",
        "torch.save(model.state_dict(), './best_model/Predictor_CNN.pth')\n",
        "\n",
        "os.makedirs('./loss_curves', exist_ok=True)\n",
        "print(\"Training complete. Model saved to ./best_model/Predictor_CNN.pth\")\n"
      ],
      "id": "4M2cuVHYjTdm"
    },
    {
      "cell_type": "markdown",
      "id": "4f359500",
      "metadata": {
        "id": "4f359500"
      },
      "source": [
        "## 5) Visualize Training Results"
      ]
    },
    {
      "cell_type": "markdown",
      "id": "a8d0edc5",
      "metadata": {
        "id": "a8d0edc5"
      },
      "source": [
        "### **| Loss Curves**"
      ]
    },
    {
      "cell_type": "code",
      "execution_count": null,
      "id": "3599081a",
      "metadata": {
        "colab": {
          "base_uri": "https://localhost:8080/",
          "height": 472
        },
        "id": "3599081a",
        "outputId": "17b486fd-3a83-4abb-c3d0-ee4ecf723685"
      },
      "outputs": [
        {
          "output_type": "display_data",
          "data": {
            "text/plain": [
              "<Figure size 640x480 with 1 Axes>"
            ],
            "image/png": "[encoded data removed]"
          },
          "metadata": {}
        }
      ],
      "source": [
        "import math\n",
        "\n",
        "plt.figure()\n",
        "plt.plot(range(1, epochs + 1), train_losses, label='Train loss')\n",
        "plt.plot(range(1, epochs + 1), val_losses, label='Validation loss')\n",
        "plt.xlabel('Epoch')\n",
        "plt.ylabel('Loss')\n",
        "plt.ylim(0, 0.05)\n",
        "plt.title('Training & Validation Loss')\n",
        "plt.legend()\n",
        "plt.savefig('./loss_curves/loss_curve.png')\n",
        "plt.show()"
      ]
    },
    {
      "cell_type": "markdown",
      "id": "282cf42f",
      "metadata": {
        "id": "282cf42f"
      },
      "source": [
        "### **| Evaluate Metrics: RMSE, MAPE, R^2**"
      ]
    },
    {
      "cell_type": "code",
      "execution_count": null,
      "id": "4faf9eb2",
      "metadata": {
        "colab": {
          "base_uri": "https://localhost:8080/"
        },
        "id": "4faf9eb2",
        "outputId": "f2f80515-c251-403e-b926-be00746ad4b3"
      },
      "outputs": [
        {
          "output_type": "stream",
          "name": "stdout",
          "text": [
            "Compliance1  RMSE: 9.7117, MAPE: 12.16%, R²: 0.9317\n",
            "Compliance2  RMSE: 10.2689, MAPE: 17.52%, R²: 0.8308\n"
          ]
        }
      ],
      "source": [
        "import numpy as np\n",
        "from sklearn.metrics import mean_squared_error, r2_score\n",
        "\n",
        "model.eval()\n",
        "y_true_1, y_pred_1 = [], []\n",
        "y_true_2, y_pred_2 = [], []\n",
        "\n",
        "with torch.no_grad():\n",
        "    for images, labels in test_loader:\n",
        "        images = images.to(device)\n",
        "        labels = labels.to(device)  # (batch, 2)\n",
        "        outputs = model(images)      # (batch, 2)\n",
        "\n",
        "        # Separate compliance1, compliance2\n",
        "        y_true_1.extend(labels[:, 0].cpu().numpy())\n",
        "        y_true_2.extend(labels[:, 1].cpu().numpy())\n",
        "        y_pred_1.extend(outputs[:, 0].cpu().numpy())\n",
        "        y_pred_2.extend(outputs[:, 1].cpu().numpy())\n",
        "\n",
        "def rmse(a, b):\n",
        "    return np.sqrt(mean_squared_error(a, b))\n",
        "\n",
        "def mape(a, b):\n",
        "    a, b = np.array(a), np.array(b)\n",
        "    return np.mean(np.abs((a - b) / a)) * 100\n",
        "\n",
        "y_true_1, y_pred_1 = np.array(y_true_1), np.array(y_pred_1)\n",
        "y_true_2, y_pred_2 = np.array(y_true_2), np.array(y_pred_2)\n",
        "\n",
        "compliance_min = np.array([29.07, 11.95])\n",
        "compliance_max = np.array([189.90, 191.65])\n",
        "\n",
        "y_true_1 = y_true_1 * (compliance_max[0] - compliance_min[0]) + compliance_min[0]\n",
        "y_pred_1 = y_pred_1 * (compliance_max[0] - compliance_min[0]) + compliance_min[0]\n",
        "\n",
        "y_true_2 = y_true_2 * (compliance_max[1] - compliance_min[1]) + compliance_min[1]\n",
        "y_pred_2 = y_pred_2 * (compliance_max[1] - compliance_min[1]) + compliance_min[1]\n",
        "\n",
        "rmse_1 = rmse(y_true_1, y_pred_1)\n",
        "mape_1 = mape(y_true_1, y_pred_1)\n",
        "r2_1 = r2_score(y_true_1, y_pred_1)\n",
        "\n",
        "rmse_2 = rmse(y_true_2, y_pred_2)\n",
        "mape_2 = mape(y_true_2, y_pred_2)\n",
        "r2_2 = r2_score(y_true_2, y_pred_2)\n",
        "\n",
        "print(f\"Compliance1  RMSE: {rmse_1:.4f}, MAPE: {mape_1:.2f}%, R²: {r2_1:.4f}\")\n",
        "print(f\"Compliance2  RMSE: {rmse_2:.4f}, MAPE: {mape_2:.2f}%, R²: {r2_2:.4f}\")\n"
      ]
    },
    {
      "cell_type": "markdown",
      "id": "a67ceae2",
      "metadata": {
        "id": "a67ceae2"
      },
      "source": [
        "### **| R^2 Plot (scatter of true vs. predicted)**"
      ]
    },
    {
      "cell_type": "code",
      "execution_count": null,
      "id": "5fd9ffc0",
      "metadata": {
        "colab": {
          "base_uri": "https://localhost:8080/",
          "height": 407
        },
        "id": "5fd9ffc0",
        "outputId": "9d401ff2-fc41-4d29-d8a3-ba4cf3d6caaa"
      },
      "outputs": [
        {
          "output_type": "display_data",
          "data": {
            "text/plain": [
              "<Figure size 1000x400 with 2 Axes>"
            ],
            "image/png": "[encoded data removed]"
          },
          "metadata": {}
        }
      ],
      "source": [
        "fig, axes = plt.subplots(1, 2, figsize=(10, 4))\n",
        "\n",
        "axes[0].scatter(y_true_1, y_pred_1, c='blue', alpha=0.5, label='Compliance1')\n",
        "axes[0].plot([min(y_true_1), max(y_true_1)], [min(y_true_1), max(y_true_1)], 'r--')\n",
        "axes[0].set_title(f\"C1 R^2: {r2_1:.4f}\")\n",
        "axes[0].set_xlabel(\"True\")\n",
        "axes[0].set_ylabel(\"Predicted\")\n",
        "\n",
        "axes[1].scatter(y_true_2, y_pred_2, c='green', alpha=0.5, label='Compliance2')\n",
        "axes[1].plot([min(y_true_2), max(y_true_2)], [min(y_true_2), max(y_true_2)], 'r--')\n",
        "axes[1].set_title(f\"C2 R^2: {r2_2:.4f}\")\n",
        "axes[1].set_xlabel(\"True\")\n",
        "axes[1].set_ylabel(\"Predicted\")\n",
        "\n",
        "plt.tight_layout()\n",
        "plt.savefig('./loss_curves/r2_scatter.png')\n",
        "plt.show()\n"
      ]
    }
  ],
  "metadata": {
    "kernelspec": {
      "display_name": "Python 3",
      "name": "python3"
    },
    "language_info": {
      "codemirror_mode": {
        "name": "ipython",
        "version": 3
      },
      "file_extension": ".py",
      "mimetype": "text/x-python",
      "name": "python",
      "nbconvert_exporter": "python",
      "pygments_lexer": "ipython3",
      "version": "3.9.13"
    },
    "name": "Predictor_CNN_Training",
    "colab": {
      "provenance": [],
      "gpuType": "T4",
      "include_colab_link": true
    },
    "accelerator": "GPU"
  },
  "nbformat": 4,
  "nbformat_minor": 5
}